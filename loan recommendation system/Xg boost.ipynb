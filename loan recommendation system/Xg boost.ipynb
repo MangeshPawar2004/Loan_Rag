{
 "cells": [
  {
   "cell_type": "code",
   "execution_count": 2,
   "id": "9e1f4731",
   "metadata": {},
   "outputs": [
    {
     "name": "stdout",
     "output_type": "stream",
     "text": [
      "Model Performance (XGBoost):\n",
      "R² Score   : 0.9384\n",
      "MAE        : 13879.02\n",
      "RMSE       : 29346.43\n"
     ]
    }
   ],
   "source": [
    "import pandas as pd\n",
    "import numpy as np\n",
    "\n",
    "# Modeling libraries\n",
    "from sklearn.model_selection import train_test_split\n",
    "from sklearn.preprocessing import StandardScaler, OneHotEncoder\n",
    "from sklearn.compose import ColumnTransformer\n",
    "from sklearn.pipeline import Pipeline\n",
    "from sklearn.metrics import mean_squared_error, mean_absolute_error, r2_score\n",
    "from xgboost import XGBRegressor\n",
    "\n",
    "# ------------------\n",
    "# Load dataset\n",
    "# ------------------\n",
    "file_path = \"loan_recommendation_dataset.csv\"\n",
    "df = pd.read_csv(file_path)\n",
    "\n",
    "# ------------------\n",
    "# Features & Target\n",
    "# ------------------\n",
    "X = df.iloc[:, :15]   # first 15 variables as input\n",
    "y = df[\"Loan_Amount\"] # target\n",
    "\n",
    "# Identify categorical and numerical columns\n",
    "categorical_cols = X.select_dtypes(include=[\"object\"]).columns.tolist()\n",
    "numeric_cols = X.select_dtypes(exclude=[\"object\"]).columns.tolist()\n",
    "\n",
    "# ------------------\n",
    "# Preprocessing\n",
    "# ------------------\n",
    "preprocessor = ColumnTransformer([\n",
    "    (\"num\", StandardScaler(), numeric_cols),\n",
    "    (\"cat\", OneHotEncoder(handle_unknown=\"ignore\"), categorical_cols)\n",
    "])\n",
    "\n",
    "# ------------------\n",
    "# XGBoost Model with given hyperparameters\n",
    "# ------------------\n",
    "xgb_model = XGBRegressor(\n",
    "    colsample_bytree=1.0,\n",
    "    learning_rate=0.2,\n",
    "    max_depth=3,\n",
    "    n_estimators=300,\n",
    "    reg_alpha=0.1,\n",
    "    reg_lambda=1,\n",
    "    subsample=0.9,\n",
    "    random_state=42,\n",
    "    n_jobs=-1\n",
    ")\n",
    "\n",
    "# Build pipeline\n",
    "pipeline = Pipeline([\n",
    "    (\"preprocessor\", preprocessor),\n",
    "    (\"regressor\", xgb_model)\n",
    "])\n",
    "\n",
    "# ------------------\n",
    "# Train/Test Split\n",
    "# ------------------\n",
    "X_train, X_test, y_train, y_test = train_test_split(X, y, test_size=0.2, random_state=42)\n",
    "\n",
    "# ------------------\n",
    "# Train model\n",
    "# ------------------\n",
    "pipeline.fit(X_train, y_train)\n",
    "\n",
    "# ------------------\n",
    "# Predictions & Evaluation\n",
    "# ------------------\n",
    "y_pred = pipeline.predict(X_test)\n",
    "\n",
    "r2 = r2_score(y_test, y_pred)\n",
    "mae = mean_absolute_error(y_test, y_pred)\n",
    "rmse = np.sqrt(mean_squared_error(y_test, y_pred))\n",
    "\n",
    "print(\"Model Performance (XGBoost):\")\n",
    "print(f\"R² Score   : {r2:.4f}\")\n",
    "print(f\"MAE        : {mae:.2f}\")\n",
    "print(f\"RMSE       : {rmse:.2f}\")\n"
   ]
  },
  {
   "cell_type": "code",
   "execution_count": 7,
   "id": "269a2f38-f887-4a64-91f5-f6a880ccf75b",
   "metadata": {},
   "outputs": [
    {
     "name": "stdout",
     "output_type": "stream",
     "text": [
      "<class 'pandas.core.frame.DataFrame'>\n",
      "RangeIndex: 4000 entries, 0 to 3999\n",
      "Data columns (total 20 columns):\n",
      " #   Column                   Non-Null Count  Dtype  \n",
      "---  ------                   --------------  -----  \n",
      " 0   Age                      4000 non-null   int64  \n",
      " 1   Income                   4000 non-null   int64  \n",
      " 2   Credit_Score             4000 non-null   int64  \n",
      " 3   Income_to_Expense_Ratio  4000 non-null   float64\n",
      " 4   Marital_Status           4000 non-null   object \n",
      " 5   Guarantor                4000 non-null   object \n",
      " 6   Purpose                  4000 non-null   object \n",
      " 7   Dependents               4000 non-null   int64  \n",
      " 8   Ongoing_Loans            4000 non-null   int64  \n",
      " 9   Ongoing_Loan_Amount      4000 non-null   int64  \n",
      " 10  Ongoing_Loan_EMI         4000 non-null   int64  \n",
      " 11  FD                       4000 non-null   object \n",
      " 12  FD_Amount                4000 non-null   int64  \n",
      " 13  Geo_Location             4000 non-null   object \n",
      " 14  Employment_Years         4000 non-null   int64  \n",
      " 15  Loan_Amount              4000 non-null   int64  \n",
      " 16  Tenure_Months            4000 non-null   int64  \n",
      " 17  EMI                      4000 non-null   int64  \n",
      " 18  Interest_Rate            4000 non-null   float64\n",
      " 19  Interest_Amount          4000 non-null   int64  \n",
      "dtypes: float64(2), int64(13), object(5)\n",
      "memory usage: 625.1+ KB\n",
      "None\n"
     ]
    }
   ],
   "source": [
    "print(df.info())"
   ]
  },
  {
   "cell_type": "code",
   "execution_count": null,
   "id": "a4752c39-1296-4899-a2af-9c0e6ffc839f",
   "metadata": {},
   "outputs": [],
   "source": []
  }
 ],
 "metadata": {
  "kernelspec": {
   "display_name": "Python 3 (ipykernel)",
   "language": "python",
   "name": "python3"
  },
  "language_info": {
   "codemirror_mode": {
    "name": "ipython",
    "version": 3
   },
   "file_extension": ".py",
   "mimetype": "text/x-python",
   "name": "python",
   "nbconvert_exporter": "python",
   "pygments_lexer": "ipython3",
   "version": "3.13.4"
  }
 },
 "nbformat": 4,
 "nbformat_minor": 5
}
